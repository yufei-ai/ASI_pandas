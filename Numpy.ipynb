{
 "cells": [
  {
   "cell_type": "markdown",
   "metadata": {},
   "source": [
    "# Getting Started"
   ]
  },
  {
   "cell_type": "markdown",
   "metadata": {},
   "source": [
    "## This is a python environment\n",
    "\n",
    "To run a command, click in the cell and click the play button above or press Ctrl+enter (or shift+enter which automatically places your cursor in the next cell down, or alt+enter to also add a new cell below)"
   ]
  },
  {
   "cell_type": "code",
   "execution_count": 1,
   "metadata": {},
   "outputs": [
    {
     "name": "stdout",
     "output_type": "stream",
     "text": [
      "Hello, Fellows!\n"
     ]
    }
   ],
   "source": [
    "print(\"Hello, Fellows!\")"
   ]
  },
  {
   "cell_type": "code",
   "execution_count": 3,
   "metadata": {},
   "outputs": [
    {
     "data": {
      "text/plain": [
       "3"
      ]
     },
     "execution_count": 3,
     "metadata": {},
     "output_type": "execute_result"
    }
   ],
   "source": [
    "# shorthand for print 1+2 , can only be used once per cell to avoid ambiguity\n",
    "1 + 2 "
   ]
  },
  {
   "cell_type": "code",
   "execution_count": 2,
   "metadata": {
    "collapsed": true
   },
   "outputs": [],
   "source": [
    "# a semi-colon supresses the cell output\n",
    "1 + 2;"
   ]
  },
  {
   "cell_type": "markdown",
   "metadata": {},
   "source": [
    "#### Notebooks have two different keyboard input modes:\n",
    "1. <b>Edit mode</b> allows you to type code/text into a cell and is indicated by a green cell border. \n",
    "2. <b>Command mode</b> binds the keyboard to notebook level actions and is indicated by a grey cell border.\n",
    "<br>\n",
    "\n",
    "Change from edit to command mode by pressing `esc`. And change back by hitting `enter` \n",
    "\n",
    "#### Change, add and delete cells in command mode\n",
    "- Change cell type from code to markdown by pressing `m`. Change it back to code with `y`. \n",
    "- Add a cell above with `a` and below with `b`\n",
    "- Delete a cell with `dd`\n",
    "\n",
    "Type `h` for more keyboard shortcuts"
   ]
  },
  {
   "cell_type": "markdown",
   "metadata": {},
   "source": [
    "# Data Science in Python == Data Science in Numpy\n",
    "\n",
    "The fundamental library for data science is numpy. __Numpy__ gives us *fast* and *powerful* tools for numerical operations on large, multi-dimensional arrays of data. Which as you can image is useful for much of data science!\n",
    "\n",
    "Then, a kind soul called Wes McKinney decided to make our lives even easier. He created __pandas__, a library built on top of numpy which makes analysing messy, real-world datasets more intuitive. Pandas adds more functionality and a wonderfully useful 2-dimensional data structure known as a `DataFrame`.\n",
    "\n",
    "Knowing how to use these libraries will make the slog of understanding your data and getting it into a useable state much easier. If you also understand _why_ these libraries matter, your code will be faster, more reuseable and better suited to being deployed into production. "
   ]
  },
  {
   "cell_type": "code",
   "execution_count": 4,
   "metadata": {
    "collapsed": true
   },
   "outputs": [],
   "source": [
    "# You will always see these libraries imported in the following way\n",
    "\n",
    "import numpy as np\n",
    "import pandas as pd "
   ]
  },
  {
   "cell_type": "markdown",
   "metadata": {},
   "source": [
    "## Check if numpy has a function that does it for you\n",
    "\n",
    "If you don't read any further, that's the key lesson. Here's how you can do it:"
   ]
  },
  {
   "cell_type": "markdown",
   "metadata": {},
   "source": [
    "Think np has a sum method? Let's check!\n",
    "\n",
    "```ipython\n",
    "In [2]: np.su*?\n",
    "```"
   ]
  },
  {
   "cell_type": "code",
   "execution_count": 5,
   "metadata": {
    "collapsed": true
   },
   "outputs": [],
   "source": [
    "np.su*?"
   ]
  },
  {
   "cell_type": "markdown",
   "metadata": {},
   "source": [
    "To display all the contents of the numpy namespace\n",
    "\n",
    "```ipython\n",
    "In [3]: np.<TAB>\n",
    "```"
   ]
  },
  {
   "cell_type": "code",
   "execution_count": null,
   "metadata": {
    "collapsed": true
   },
   "outputs": [],
   "source": [
    "# try it for yourself"
   ]
  },
  {
   "cell_type": "markdown",
   "metadata": {},
   "source": [
    "To display Numpy's built-in documentation:\n",
    "\n",
    "```ipython\n",
    "In [4]: np?\n",
    "```"
   ]
  },
  {
   "cell_type": "code",
   "execution_count": 6,
   "metadata": {
    "collapsed": true
   },
   "outputs": [],
   "source": [
    "# try it for yourself\n",
    "np?"
   ]
  },
  {
   "cell_type": "markdown",
   "metadata": {},
   "source": [
    "In general, make extensive use of documentation & StackOverflow. Numpy and Pandas have so many users that any question you have has likely been asked and answered on Stack Overflow. Other useful resources:\n",
    "\n",
    "- [Pandas online documentation](http://pandas.pydata.org/)\n",
    "- [Numpy online documentation](https://docs.scipy.org/doc/)\n",
    "- [* Python Data Science Handbook*](http://shop.oreilly.com/product/0636920023784.do) Written by Jake VanderPlas.  \n",
    "- [*Python for Data Analysis*](http://shop.oreilly.com/product/0636920023784.do) Written by Wes McKinney (the original creator of Pandas)"
   ]
  },
  {
   "cell_type": "markdown",
   "metadata": {},
   "source": [
    "## Why do we care about numpy?\n",
    "\n",
    "1. Our code is faster\n",
    "3. Our code is (often) more readable\n",
    "2. Our code is (almost always) more intuitive\n",
    "\n",
    "#### For example:  Implementing a simple  [random walk](https://en.wikipedia.org/wiki/Random_walk)\n",
    "\n",
    "i.e. at each step, move either one place forward or one place backward"
   ]
  },
  {
   "cell_type": "code",
   "execution_count": 7,
   "metadata": {},
   "outputs": [
    {
     "name": "stdout",
     "output_type": "stream",
     "text": [
      "1000 loops, best of 3: 1.39 ms per loop\n"
     ]
    }
   ],
   "source": [
    "# python implementation - requires for loop\n",
    "import random\n",
    "\n",
    "def random_walk(n):\n",
    "    '''Randomly walk n steps'''\n",
    "    position = 0\n",
    "    walk = [position]\n",
    "    for i in range(n):\n",
    "        position += random.choice([-1, 1])\n",
    "        walk.append(position)\n",
    "    return walk\n",
    "\n",
    "%timeit random_walk(1000) # timeit is a \"magic\" ipython command - see the documentation for others"
   ]
  },
  {
   "cell_type": "code",
   "execution_count": 8,
   "metadata": {},
   "outputs": [
    {
     "name": "stdout",
     "output_type": "stream",
     "text": [
      "The slowest run took 16.35 times longer than the fastest. This could mean that an intermediate result is being cached.\n",
      "10000 loops, best of 3: 31.7 µs per loop\n"
     ]
    }
   ],
   "source": [
    "# numpy implementation - no for loop, ~100x faster, more readable\n",
    "def random_walk(n):\n",
    "    '''Randomly walk n steps'''\n",
    "    steps = np.random.choice([-1, 1], size=n) \n",
    "    return np.cumsum(steps)\n",
    "\n",
    "%timeit random_walk(1000)"
   ]
  },
  {
   "cell_type": "markdown",
   "metadata": {},
   "source": [
    "The idea of removing `for` loops in favour of creating and manipulating whole arrays at a time is central to numerical computing in python, and most of what follows focuses on it. This is known as a *vectorized* operation. This vectorized approach is designed to push the loop into the compiled layer that underlies NumPy, leading to much faster execution.\n",
    "\n",
    "You can make use of this by using numpy arrays rather than python lists, and using:\n",
    "1. <b><a href=http://docs.scipy.org/doc/numpy/reference/ufuncs.html>Ufuncs</a></b> for element-wise operations on arrays (+, -, *, /, etc.)\n",
    "2. <b>Aggregations</b> for summarizing the values of an array (e.g. np.min, np.max, np.sum, np.mean)\n",
    "3. <b><a href=http://scipy.github.io/old-wiki/pages/EricsBroadcastingDoc>Broadcasting</a></b> for combining arrays\n",
    "4. <b><a href=http://docs.scipy.org/doc/numpy/reference/arrays.indexing.html>Indexing and slicing</a></b> \n",
    "\n",
    "We will see examples of all of these in the remainder of the notebook. "
   ]
  },
  {
   "cell_type": "markdown",
   "metadata": {},
   "source": [
    "## What makes numpy fast?\n",
    "\n",
    "You might wonder how it's possible for an extension to a language, like the numpy extension of python, can make computations faster - how, for example, it can move to an array-first approach. If you're not wondering that - move right on to the actual coding!\n",
    "\n",
    "Python is very easy to use and quick to code in. One reason for this is dynamic typing. While a statically-typed language like C requires each variable to be explicitly declared, a dynamically-typed language like Python skips this specification. Instead, in Python the types are dynamically inferred. \n",
    "\n",
    "Because of Python's dynamic typing, we can create heterogeneous lists:"
   ]
  },
  {
   "cell_type": "code",
   "execution_count": 9,
   "metadata": {},
   "outputs": [
    {
     "data": {
      "text/plain": [
       "[bool, str, float, int]"
      ]
     },
     "execution_count": 9,
     "metadata": {},
     "output_type": "execute_result"
    }
   ],
   "source": [
    "l = [True, \"2\", 3.0, 4]\n",
    "[type(item) for item in l] # this is a python \"list comprehension\", basically a more compact syntax for a for-loop"
   ]
  },
  {
   "cell_type": "markdown",
   "metadata": {},
   "source": [
    "But this flexibility comes at a cost: to allow these flexible types, each item in the list must contain its own type info. In the special case that all variables are of the same type, much of this information is redundant: it can be much more efficient to store data in a fixed-type array.\n",
    "\n",
    "Unlike a Python list, a numpy array is stored in a *contiguous block of memory*. This [locality in memory](https://en.wikipedia.org/wiki/Locality_of_reference)\n",
    "allows for __faster accessing and for specialised implementations__ of method, many of which are actually executed in C, not python.\n",
    "\n",
    "In fact, items are (often) stored as C arrays, which are statically typed. Items in a numpy array are *the same data type*, meaning we (often) __avoid the cost of per-element dynamic type checking__.\n",
    "\n",
    "The items in an array can be accessed using an *indexing scheme*. The indexing scheme is by shape and data type -- exactly what is needed in defining a new array.\n",
    "\n",
    "ndarray = block of memory (raw data) + indexing scheme (how to locate an element) + data type descriptor (how to interpret an element)\n",
    "\n",
    "_(The complete story involves a few more complications)_"
   ]
  },
  {
   "cell_type": "markdown",
   "metadata": {},
   "source": [
    "## The majority of this notebook provides challenges for you. \n",
    "\n",
    "They come in two parts:\n",
    "1. A series of examples and coding challenges to build your skills in numpy\n",
    "2. A series of problems that require you to [vectorise](https://en.wikipedia.org/wiki/Array_programming) : re-implement functions to apply operations to entire subsets of your data, rather than item by item.\n",
    "\n",
    "\n",
    "\n",
    "You can also ctrl+f for 'Task' to find all the programming challenges."
   ]
  },
  {
   "cell_type": "markdown",
   "metadata": {},
   "source": [
    "# 1. Hello Numpy World \n",
    "Let's see what I'm on about. \n",
    "\n",
    "We'll cover:\n",
    "    \n",
    "    i. Creating data arrays\n",
    "    ii. Indexing \n",
    "    iii. Reshaping arrays\n",
    "    iv. Broadcasting scalars and arrays to different sizes\n",
    "    v. Matrix operations\n"
   ]
  },
  {
   "cell_type": "markdown",
   "metadata": {},
   "source": [
    "## i. Creating data"
   ]
  },
  {
   "cell_type": "code",
   "execution_count": 10,
   "metadata": {},
   "outputs": [
    {
     "data": {
      "text/plain": [
       "array([1, 0, 0, 1, 0])"
      ]
     },
     "execution_count": 10,
     "metadata": {},
     "output_type": "execute_result"
    }
   ],
   "source": [
    "np.array([1, 0, 0, 1, 0]) # note: argument is a list [...]"
   ]
  },
  {
   "cell_type": "code",
   "execution_count": 11,
   "metadata": {},
   "outputs": [
    {
     "data": {
      "text/plain": [
       "array([ 0.,  0.,  0.,  0.,  0.])"
      ]
     },
     "execution_count": 11,
     "metadata": {},
     "output_type": "execute_result"
    }
   ],
   "source": [
    "np.zeros(5) # create a 5-element array of zeros"
   ]
  },
  {
   "cell_type": "code",
   "execution_count": 12,
   "metadata": {},
   "outputs": [
    {
     "data": {
      "text/plain": [
       "array([[1, 1, 1, 1, 1],\n",
       "       [1, 1, 1, 1, 1],\n",
       "       [1, 1, 1, 1, 1]])"
      ]
     },
     "execution_count": 12,
     "metadata": {},
     "output_type": "execute_result"
    }
   ],
   "source": [
    "np.ones((3, 5), dtype=int) # create a 3x5 array of integer ones (default is to create floats)"
   ]
  },
  {
   "cell_type": "code",
   "execution_count": 13,
   "metadata": {},
   "outputs": [
    {
     "data": {
      "text/plain": [
       "array([ 0.  ,  0.25,  0.5 ,  0.75,  1.  ])"
      ]
     },
     "execution_count": 13,
     "metadata": {},
     "output_type": "execute_result"
    }
   ],
   "source": [
    "np.linspace(0, 1, num=5) # create an evenly spaced array of length 5 between 0 and 1 "
   ]
  },
  {
   "cell_type": "markdown",
   "metadata": {},
   "source": [
    "#### Task: create some data on a log scale"
   ]
  },
  {
   "cell_type": "code",
   "execution_count": 15,
   "metadata": {},
   "outputs": [
    {
     "data": {
      "text/plain": [
       "array([ 0.69314718,  0.87546874,  1.02961942,  1.16315081,  1.28093385,\n",
       "        1.38629436])"
      ]
     },
     "execution_count": 15,
     "metadata": {},
     "output_type": "execute_result"
    }
   ],
   "source": [
    "## your code here\n",
    "np.log(np.linspace(2,4,num=6))\n"
   ]
  },
  {
   "cell_type": "code",
   "execution_count": 18,
   "metadata": {},
   "outputs": [
    {
     "data": {
      "text/plain": [
       "array([[2, 1, 2],\n",
       "       [3, 4, 3],\n",
       "       [5, 4, 5],\n",
       "       [4, 3, 1]])"
      ]
     },
     "execution_count": 18,
     "metadata": {},
     "output_type": "execute_result"
    }
   ],
   "source": [
    "r = np.random.randint(0, 6, size=(4, 3))\n",
    "r"
   ]
  },
  {
   "cell_type": "code",
   "execution_count": 21,
   "metadata": {},
   "outputs": [
    {
     "data": {
      "text/plain": [
       "array([[0, 0, 0],\n",
       "       [0, 0, 0],\n",
       "       [0, 0, 0],\n",
       "       [0, 0, 0]])"
      ]
     },
     "execution_count": 21,
     "metadata": {},
     "output_type": "execute_result"
    }
   ],
   "source": [
    "np.zeros_like(r)\n",
    "\n"
   ]
  },
  {
   "cell_type": "markdown",
   "metadata": {},
   "source": [
    "Random data:"
   ]
  },
  {
   "cell_type": "code",
   "execution_count": 23,
   "metadata": {},
   "outputs": [
    {
     "data": {
      "text/plain": [
       "array([ 0.73202007, -2.16687868,  0.57131125,  1.50828711])"
      ]
     },
     "execution_count": 23,
     "metadata": {},
     "output_type": "execute_result"
    }
   ],
   "source": [
    "# Gaussian\n",
    "np.random.randn(4) \n"
   ]
  },
  {
   "cell_type": "markdown",
   "metadata": {},
   "source": [
    "#### Task: Try setting the seed before creating an array with random values. (Generate data from a different distribution. Try to figure out what `np.random.seed` does.)"
   ]
  },
  {
   "cell_type": "code",
   "execution_count": 99,
   "metadata": {},
   "outputs": [
    {
     "name": "stdout",
     "output_type": "stream",
     "text": [
      "[ 1.62434536 -0.61175641 -0.52817175 -1.07296862  0.86540763]\n",
      "[-2.3015387   1.74481176 -0.7612069   0.3190391  -0.24937038]\n"
     ]
    }
   ],
   "source": [
    "np.random.seed(1)  \n",
    "## your code here\n",
    "a = np.random.randn(5)\n",
    "b = np.random.randn(5)\n",
    "print(a)\n",
    "print(b)"
   ]
  },
  {
   "cell_type": "markdown",
   "metadata": {},
   "source": [
    "## ii. Access data by indexing"
   ]
  },
  {
   "cell_type": "code",
   "execution_count": 68,
   "metadata": {},
   "outputs": [
    {
     "data": {
      "text/plain": [
       "array([[0, 1, 2],\n",
       "       [3, 4, 5],\n",
       "       [6, 7, 8]])"
      ]
     },
     "execution_count": 68,
     "metadata": {},
     "output_type": "execute_result"
    }
   ],
   "source": [
    "a = np.arange(9).reshape(3,3)\n",
    "a"
   ]
  },
  {
   "cell_type": "code",
   "execution_count": 69,
   "metadata": {},
   "outputs": [
    {
     "data": {
      "text/plain": [
       "8"
      ]
     },
     "execution_count": 69,
     "metadata": {},
     "output_type": "execute_result"
    }
   ],
   "source": [
    "a[2, 2] # item by index"
   ]
  },
  {
   "cell_type": "markdown",
   "metadata": {},
   "source": [
    "Note: Python uses zero-baed indexing"
   ]
  },
  {
   "cell_type": "code",
   "execution_count": 70,
   "metadata": {},
   "outputs": [
    {
     "data": {
      "text/plain": [
       "array([3, 4, 5])"
      ]
     },
     "execution_count": 70,
     "metadata": {},
     "output_type": "execute_result"
    }
   ],
   "source": [
    "a[1] # row by index"
   ]
  },
  {
   "cell_type": "code",
   "execution_count": 71,
   "metadata": {},
   "outputs": [
    {
     "data": {
      "text/plain": [
       "array([2, 5, 8])"
      ]
     },
     "execution_count": 71,
     "metadata": {},
     "output_type": "execute_result"
    }
   ],
   "source": [
    "a[:, 2] # column by index"
   ]
  },
  {
   "cell_type": "code",
   "execution_count": 72,
   "metadata": {},
   "outputs": [
    {
     "data": {
      "text/plain": [
       "array([[3, 4],\n",
       "       [6, 7]])"
      ]
     },
     "execution_count": 72,
     "metadata": {},
     "output_type": "execute_result"
    }
   ],
   "source": [
    "a[1:, :2] # what is this doing?"
   ]
  },
  {
   "cell_type": "markdown",
   "metadata": {},
   "source": [
    "#### Task: Using a single index, of the form `a[:,:]`, access the 4 corner values of our matrix `a` "
   ]
  },
  {
   "cell_type": "code",
   "execution_count": 81,
   "metadata": {},
   "outputs": [
    {
     "data": {
      "text/plain": [
       "array([[0, 2],\n",
       "       [6, 8]])"
      ]
     },
     "execution_count": 81,
     "metadata": {},
     "output_type": "execute_result"
    }
   ],
   "source": [
    "## your code here\n",
    "a[0:3:2,0:3:2]"
   ]
  },
  {
   "cell_type": "markdown",
   "metadata": {},
   "source": [
    "#### Task:  Select the even numbers from the (5, 5) array defined below"
   ]
  },
  {
   "cell_type": "code",
   "execution_count": 83,
   "metadata": {},
   "outputs": [
    {
     "data": {
      "text/plain": [
       "array([ 1,  3,  5,  7,  9, 11, 13, 15, 17, 19, 21, 23])"
      ]
     },
     "execution_count": 83,
     "metadata": {},
     "output_type": "execute_result"
    }
   ],
   "source": [
    "a = np.arange(25).reshape(5, 5)\n",
    "## your code here\n",
    "a[a%2==1]"
   ]
  },
  {
   "cell_type": "markdown",
   "metadata": {},
   "source": [
    "#### Task: return the 2nd, 3rd and 5th item in every other row in `P`, starting with row 0\n",
    "Hint: look at np.ix_"
   ]
  },
  {
   "cell_type": "code",
   "execution_count": 112,
   "metadata": {},
   "outputs": [
    {
     "data": {
      "text/plain": [
       "array([[ 0.53589641,  0.66379465,  0.94459476],\n",
       "       [ 0.90340192,  0.1374747 ,  0.80739129],\n",
       "       [ 0.1653542 ,  0.92750858,  0.7508121 ],\n",
       "       [ 0.88330609,  0.62367221,  0.34889834],\n",
       "       [ 0.89588622,  0.42809119,  0.6634415 ]])"
      ]
     },
     "execution_count": 112,
     "metadata": {},
     "output_type": "execute_result"
    }
   ],
   "source": [
    "P = np.random.rand(5, 5)\n",
    "## your code here\n",
    "#print(P)\n",
    "P[:,[1,2,4]]\n",
    "P[np.ix_([0,1,2,3,4],[1,2,4])]\n"
   ]
  },
  {
   "cell_type": "markdown",
   "metadata": {},
   "source": [
    "#### Task: Generate a 10 x 3 array of random numbers in range [0,1]. For each row, pick the number closest to 0.5."
   ]
  },
  {
   "cell_type": "code",
   "execution_count": 180,
   "metadata": {},
   "outputs": [
    {
     "name": "stdout",
     "output_type": "stream",
     "text": [
      "[[ 0.04157423  0.98970695  0.46488763]\n",
      " [ 0.73458501  0.64080762  0.7230934 ]\n",
      " [ 0.0511109   0.92004541  0.92684122]\n",
      " [ 0.55199503  0.96391589  0.28095554]\n",
      " [ 0.60214663  0.39646269  0.62802323]\n",
      " [ 0.30063229  0.81935838  0.06978598]\n",
      " [ 0.04187757  0.04939638  0.15045503]\n",
      " [ 0.39535047  0.95538999  0.11079544]\n",
      " [ 0.64755299  0.52762151  0.35324241]\n",
      " [ 0.19819923  0.22059408  0.04382151]]\n"
     ]
    },
    {
     "data": {
      "text/plain": [
       "array([[ 0.46488763],\n",
       "       [ 0.98970695],\n",
       "       [ 0.98970695],\n",
       "       [ 0.04157423],\n",
       "       [ 0.04157423],\n",
       "       [ 0.04157423],\n",
       "       [ 0.46488763],\n",
       "       [ 0.04157423],\n",
       "       [ 0.98970695],\n",
       "       [ 0.98970695]])"
      ]
     },
     "execution_count": 180,
     "metadata": {},
     "output_type": "execute_result"
    }
   ],
   "source": [
    "## your code\n",
    "R = np.random.rand(10,3)\n",
    "print(R)\n",
    "ind = np.argmin(np.abs(R-np.ones_like(R)*0.5),1).reshape(10,1)\n",
    "row = np.array([0 for i in range(10)]).reshape(10,1)\n",
    "#row = row.reshape(10,1)\n",
    "#ind = ind.reshape(10,1)\n",
    "R[row,ind]"
   ]
  },
  {
   "cell_type": "code",
   "execution_count": 181,
   "metadata": {},
   "outputs": [
    {
     "data": {
      "text/plain": [
       "<function RandomState.rand>"
      ]
     },
     "execution_count": 181,
     "metadata": {},
     "output_type": "execute_result"
    }
   ],
   "source": [
    "R = np.random.rand"
   ]
  },
  {
   "cell_type": "markdown",
   "metadata": {},
   "source": [
    "#### Task: You're given two matrices of the same shape. Select values from the first if the values in the second are positive. "
   ]
  },
  {
   "cell_type": "code",
   "execution_count": 183,
   "metadata": {},
   "outputs": [
    {
     "data": {
      "text/plain": [
       "array([7, 5, 8, 0, 0, 5, 1, 0, 2, 3, 0, 2, 5, 4, 3, 3, 3, 3, 9, 7, 6, 4, 6,\n",
       "       5, 6, 5, 4, 3, 0, 4, 3, 4, 8, 7])"
      ]
     },
     "execution_count": 183,
     "metadata": {},
     "output_type": "execute_result"
    }
   ],
   "source": [
    "first = np.random.randint(10, size=(10,10))\n",
    "second = np.random.randn(100).reshape(10,10) - 0.3\n",
    "## your code\n",
    "first[second>0]"
   ]
  },
  {
   "cell_type": "markdown",
   "metadata": {},
   "source": [
    "## iii. Reshaping"
   ]
  },
  {
   "cell_type": "code",
   "execution_count": 184,
   "metadata": {},
   "outputs": [
    {
     "name": "stdout",
     "output_type": "stream",
     "text": [
      "(6,)\n",
      "[ 0.  0.  0.  0.  0.  0.]\n"
     ]
    }
   ],
   "source": [
    "z = np.zeros(6)\n",
    "print(z.shape)\n",
    "print(z)"
   ]
  },
  {
   "cell_type": "code",
   "execution_count": 185,
   "metadata": {},
   "outputs": [
    {
     "data": {
      "text/plain": [
       "array([[ 0.],\n",
       "       [ 0.],\n",
       "       [ 0.],\n",
       "       [ 0.],\n",
       "       [ 0.],\n",
       "       [ 0.]])"
      ]
     },
     "execution_count": 185,
     "metadata": {},
     "output_type": "execute_result"
    }
   ],
   "source": [
    "z.reshape(len(z), 1) "
   ]
  },
  {
   "cell_type": "code",
   "execution_count": 186,
   "metadata": {},
   "outputs": [
    {
     "data": {
      "text/plain": [
       "array([[ 0.],\n",
       "       [ 0.],\n",
       "       [ 0.],\n",
       "       [ 0.],\n",
       "       [ 0.],\n",
       "       [ 0.]])"
      ]
     },
     "execution_count": 186,
     "metadata": {},
     "output_type": "execute_result"
    }
   ],
   "source": [
    "# you will also come across this method for adding an extra dimension to an array\n",
    "# which has the same effect as the line above\n",
    "z[:, None]"
   ]
  },
  {
   "cell_type": "code",
   "execution_count": 187,
   "metadata": {},
   "outputs": [
    {
     "data": {
      "text/plain": [
       "array([[ 0.],\n",
       "       [ 0.],\n",
       "       [ 0.],\n",
       "       [ 0.],\n",
       "       [ 0.],\n",
       "       [ 0.]])"
      ]
     },
     "execution_count": 187,
     "metadata": {},
     "output_type": "execute_result"
    }
   ],
   "source": [
    "# or this!\n",
    "z[:, np.newaxis]"
   ]
  },
  {
   "cell_type": "code",
   "execution_count": 188,
   "metadata": {},
   "outputs": [
    {
     "data": {
      "text/plain": [
       "array([[ 0.,  0.],\n",
       "       [ 0.,  1.],\n",
       "       [ 0.,  0.]])"
      ]
     },
     "execution_count": 188,
     "metadata": {},
     "output_type": "execute_result"
    }
   ],
   "source": [
    "z[3] = 1\n",
    "z = z.reshape(3, 2)\n",
    "z"
   ]
  },
  {
   "cell_type": "code",
   "execution_count": 189,
   "metadata": {},
   "outputs": [
    {
     "data": {
      "text/plain": [
       "array([[ 0.,  0.,  0.],\n",
       "       [ 1.,  0.,  8.]])"
      ]
     },
     "execution_count": 189,
     "metadata": {},
     "output_type": "execute_result"
    }
   ],
   "source": [
    "z.itemset((2, 1), 8) # set in-place\n",
    "z = z.reshape(2, -1) # unspecified (-1) dimension inferred\n",
    "z"
   ]
  },
  {
   "cell_type": "code",
   "execution_count": null,
   "metadata": {
    "collapsed": true
   },
   "outputs": [],
   "source": [
    "# transpose \n",
    "z.T"
   ]
  },
  {
   "cell_type": "code",
   "execution_count": 195,
   "metadata": {},
   "outputs": [
    {
     "name": "stdout",
     "output_type": "stream",
     "text": [
      "[ 0.  0.  0.  1.  0.  8.]\n",
      "[ 0.  0.  0.  1.  0.  8.]\n"
     ]
    }
   ],
   "source": [
    "print(z.ravel()) # view\n",
    "np.ravel?\n",
    "print(z.flatten()) # copy"
   ]
  },
  {
   "cell_type": "markdown",
   "metadata": {},
   "source": [
    "See the [documentation](http://scipy-cookbook.readthedocs.io/items/ViewsVsCopies.html) for a discussion of views and copies in numpy."
   ]
  },
  {
   "cell_type": "markdown",
   "metadata": {},
   "source": [
    "#### Task: Create a 3-dimensional array, then use indexing to return the first dimension"
   ]
  },
  {
   "cell_type": "code",
   "execution_count": 198,
   "metadata": {},
   "outputs": [
    {
     "name": "stdout",
     "output_type": "stream",
     "text": [
      "[[[ 0.89592148 -1.10677887 -0.96266256 -1.25195743]\n",
      "  [ 1.14760667 -0.51473492 -0.10138078 -0.33221068]\n",
      "  [-0.96365658  0.37326097  0.38302687  0.94132558]]\n",
      "\n",
      " [[-0.22542008 -0.29708742 -0.58552175  1.48814157]\n",
      "  [ 1.00756699 -0.04038521  0.64897361 -0.58584375]\n",
      "  [ 2.05447476 -0.59156625 -0.37968896 -0.37103152]]]\n"
     ]
    },
    {
     "data": {
      "text/plain": [
       "array([[ 0.89592148, -1.10677887, -0.96266256, -1.25195743],\n",
       "       [ 1.14760667, -0.51473492, -0.10138078, -0.33221068],\n",
       "       [-0.96365658,  0.37326097,  0.38302687,  0.94132558]])"
      ]
     },
     "execution_count": 198,
     "metadata": {},
     "output_type": "execute_result"
    }
   ],
   "source": [
    "## your code here\n",
    "p = np.random.randn(2,3,4)\n",
    "print(p)\n",
    "p[0,:,:]"
   ]
  },
  {
   "cell_type": "markdown",
   "metadata": {},
   "source": [
    "#### Task: split `arrays` into 3 arrays with shape (10, 4)"
   ]
  },
  {
   "cell_type": "code",
   "execution_count": 201,
   "metadata": {},
   "outputs": [
    {
     "name": "stdout",
     "output_type": "stream",
     "text": [
      "[[[ 0.09673935  1.069501    0.68140191  0.73401181]\n",
      "  [ 1.05304238  0.62521819  0.75825943  0.40372408]\n",
      "  [-0.97538855  0.5260951   0.94588637 -0.89190966]]\n",
      "\n",
      " [[ 0.23598998  1.08281307 -0.37347646 -1.32110657]\n",
      "  [ 0.06153397  1.59368556 -0.91294542 -0.10539007]\n",
      "  [-0.75103095 -0.35896729  0.23477128  1.47681361]]\n",
      "\n",
      " [[-0.71664403 -0.70865499 -0.87250244 -1.09379045]\n",
      "  [-1.53470006 -0.8512622  -0.10581327  0.04086539]\n",
      "  [ 1.17244919 -0.82160048 -0.77993812 -0.75683724]]\n",
      "\n",
      " [[ 0.19574592 -0.15847242  0.7772088  -0.78914081]\n",
      "  [ 0.91325885  0.94251314 -0.2624677  -0.62253745]\n",
      "  [ 0.18116909 -0.79153377  1.99220474  0.1408873 ]]\n",
      "\n",
      " [[ 0.79244077 -1.2671073  -1.75075758  0.68726621]\n",
      "  [ 0.51588672 -0.76060476 -0.56677565 -0.6799438 ]\n",
      "  [ 0.22782691  0.92385213 -1.54486021  0.47874513]]\n",
      "\n",
      " [[-0.87416772 -0.53093196 -0.16043521 -1.36145404]\n",
      "  [ 2.84393857  2.42497747  0.75226986  0.65601518]\n",
      "  [-1.04361019  2.37734888  0.01831726 -0.12339551]]\n",
      "\n",
      " [[ 1.20399358  0.26080007 -0.77660361 -0.21892143]\n",
      "  [-0.37608578  0.06465569  0.55445754  0.5327589 ]\n",
      "  [ 1.30120189 -0.00410306  0.95806852  1.70666184]]\n",
      "\n",
      " [[-1.22602261  0.71257056 -1.07233211 -1.50707559]\n",
      "  [ 1.58466204  1.13548397  0.52337294 -0.4769314 ]\n",
      "  [ 1.50356122 -1.36716773  0.06739292  0.48517755]]\n",
      "\n",
      " [[ 1.28712693 -1.5264277  -3.06414136  0.11537031]\n",
      "  [ 0.31742716  0.17368027 -0.87724686 -0.0441608 ]\n",
      "  [-1.54007907  0.42059339  0.8925884  -0.73203188]]\n",
      "\n",
      " [[-2.00394177 -0.12978171 -0.19850032 -0.08060699]\n",
      "  [ 1.30357545  0.13859548  2.08412285  0.38074345]\n",
      "  [-1.08723367  1.13361346 -0.09034437 -0.48877086]]]\n",
      "(10, 3, 4)\n"
     ]
    },
    {
     "data": {
      "text/plain": [
       "array([[[ 0.09673935,  1.069501  ,  0.68140191,  0.73401181],\n",
       "        [ 1.05304238,  0.62521819,  0.75825943,  0.40372408],\n",
       "        [-0.97538855,  0.5260951 ,  0.94588637, -0.89190966],\n",
       "        [ 0.23598998,  1.08281307, -0.37347646, -1.32110657],\n",
       "        [ 0.06153397,  1.59368556, -0.91294542, -0.10539007],\n",
       "        [-0.75103095, -0.35896729,  0.23477128,  1.47681361],\n",
       "        [-0.71664403, -0.70865499, -0.87250244, -1.09379045],\n",
       "        [-1.53470006, -0.8512622 , -0.10581327,  0.04086539],\n",
       "        [ 1.17244919, -0.82160048, -0.77993812, -0.75683724],\n",
       "        [ 0.19574592, -0.15847242,  0.7772088 , -0.78914081]],\n",
       "\n",
       "       [[ 0.91325885,  0.94251314, -0.2624677 , -0.62253745],\n",
       "        [ 0.18116909, -0.79153377,  1.99220474,  0.1408873 ],\n",
       "        [ 0.79244077, -1.2671073 , -1.75075758,  0.68726621],\n",
       "        [ 0.51588672, -0.76060476, -0.56677565, -0.6799438 ],\n",
       "        [ 0.22782691,  0.92385213, -1.54486021,  0.47874513],\n",
       "        [-0.87416772, -0.53093196, -0.16043521, -1.36145404],\n",
       "        [ 2.84393857,  2.42497747,  0.75226986,  0.65601518],\n",
       "        [-1.04361019,  2.37734888,  0.01831726, -0.12339551],\n",
       "        [ 1.20399358,  0.26080007, -0.77660361, -0.21892143],\n",
       "        [-0.37608578,  0.06465569,  0.55445754,  0.5327589 ]],\n",
       "\n",
       "       [[ 1.30120189, -0.00410306,  0.95806852,  1.70666184],\n",
       "        [-1.22602261,  0.71257056, -1.07233211, -1.50707559],\n",
       "        [ 1.58466204,  1.13548397,  0.52337294, -0.4769314 ],\n",
       "        [ 1.50356122, -1.36716773,  0.06739292,  0.48517755],\n",
       "        [ 1.28712693, -1.5264277 , -3.06414136,  0.11537031],\n",
       "        [ 0.31742716,  0.17368027, -0.87724686, -0.0441608 ],\n",
       "        [-1.54007907,  0.42059339,  0.8925884 , -0.73203188],\n",
       "        [-2.00394177, -0.12978171, -0.19850032, -0.08060699],\n",
       "        [ 1.30357545,  0.13859548,  2.08412285,  0.38074345],\n",
       "        [-1.08723367,  1.13361346, -0.09034437, -0.48877086]]])"
      ]
     },
     "execution_count": 201,
     "metadata": {},
     "output_type": "execute_result"
    }
   ],
   "source": [
    "arrays = np.stack([np.random.randn(3, 4)\n",
    "                   for _ in range(10)], axis=0)\n",
    "print(arrays)\n",
    "print(arrays.shape)\n",
    "arrays.reshape(3,10,4)\n",
    "## your code here"
   ]
  },
  {
   "cell_type": "markdown",
   "metadata": {},
   "source": [
    "## iv. Broadcasting\n",
    "On numpy arrays operations, like `+`, `-`, `*`,  are elementwise. It’s possible to do __operations on arrays of different sizes__ when numpy can transform them to be the same size (known as \"broadcasting\")."
   ]
  },
  {
   "cell_type": "code",
   "execution_count": 202,
   "metadata": {},
   "outputs": [
    {
     "data": {
      "text/plain": [
       "array([ 2.,  2.,  2.,  2.,  2.])"
      ]
     },
     "execution_count": 202,
     "metadata": {},
     "output_type": "execute_result"
    }
   ],
   "source": [
    "np.ones(5) * 2 "
   ]
  },
  {
   "cell_type": "markdown",
   "metadata": {},
   "source": [
    "You could get the same result in python like `[2] * 5` but that's not quite the same operation... \n",
    "#### Task: In plain python, if you have data in a list like `[1, 1, 1, 1, 1]` how would you multiply the values by 2?"
   ]
  },
  {
   "cell_type": "code",
   "execution_count": 210,
   "metadata": {},
   "outputs": [
    {
     "name": "stdout",
     "output_type": "stream",
     "text": [
      "[2, 2, 2, 2, 2]\n"
     ]
    }
   ],
   "source": [
    "l =  [1, 1, 1, 1, 1]\n",
    "## your pure python code here\n",
    "\n",
    "for i in range(len(l)):\n",
    "    l[i]*=2\n",
    "print(l)    "
   ]
  },
  {
   "cell_type": "markdown",
   "metadata": {},
   "source": [
    "#### Task: In plain python, if you have data in a list like `[2, 2, 2, 2, 2]` how would you multiply the values elementwise by a second list like `[3, 6, 12, 24, 48]`?"
   ]
  },
  {
   "cell_type": "code",
   "execution_count": 212,
   "metadata": {},
   "outputs": [
    {
     "name": "stdout",
     "output_type": "stream",
     "text": [
      "[6, 12, 24, 48, 96]\n"
     ]
    }
   ],
   "source": [
    "l1 =[2, 2, 2, 2, 2]\n",
    "l2 = [3, 6, 12, 24, 48]\n",
    "## your code here\n",
    "for i in range(len(l2)):\n",
    "    l1[i] *= l2[i]\n",
    "print(l1)"
   ]
  },
  {
   "cell_type": "code",
   "execution_count": 213,
   "metadata": {},
   "outputs": [
    {
     "data": {
      "text/plain": [
       "array([[0, 1, 2],\n",
       "       [3, 4, 5],\n",
       "       [6, 7, 8]])"
      ]
     },
     "execution_count": 213,
     "metadata": {},
     "output_type": "execute_result"
    }
   ],
   "source": [
    "Z = np.arange(9).reshape(3, 3)\n",
    "Z"
   ]
  },
  {
   "cell_type": "code",
   "execution_count": 214,
   "metadata": {},
   "outputs": [
    {
     "data": {
      "text/plain": [
       "array([[1, 2, 3],\n",
       "       [4, 5, 6],\n",
       "       [7, 8, 9]])"
      ]
     },
     "execution_count": 214,
     "metadata": {},
     "output_type": "execute_result"
    }
   ],
   "source": [
    "Z + 1"
   ]
  },
  {
   "cell_type": "markdown",
   "metadata": {},
   "source": [
    "1 was 'broadcast' into the same shape as Z, i.e. `np.ones(shape=(3,3))`"
   ]
  },
  {
   "cell_type": "code",
   "execution_count": 215,
   "metadata": {},
   "outputs": [
    {
     "data": {
      "text/plain": [
       "True"
      ]
     },
     "execution_count": 215,
     "metadata": {},
     "output_type": "execute_result"
    }
   ],
   "source": [
    "np.alltrue(Z + 1 == Z + np.ones((3, 3)))"
   ]
  },
  {
   "cell_type": "code",
   "execution_count": 216,
   "metadata": {},
   "outputs": [
    {
     "name": "stdout",
     "output_type": "stream",
     "text": [
      "[2 1 0]\n",
      "[[0 1 2]\n",
      " [3 4 5]\n",
      " [6 7 8]]\n"
     ]
    },
    {
     "data": {
      "text/plain": [
       "array([[2, 2, 2],\n",
       "       [5, 5, 5],\n",
       "       [8, 8, 8]])"
      ]
     },
     "execution_count": 216,
     "metadata": {},
     "output_type": "execute_result"
    }
   ],
   "source": [
    "# let's make the values in a row all the same by\n",
    "# adding this [2, 1, 0] to the corresponding columns\n",
    "this = np.arange(3)[::-1]\n",
    "print(this)\n",
    "print(Z)\n",
    "Z + this"
   ]
  },
  {
   "cell_type": "markdown",
   "metadata": {},
   "source": [
    "#### Task: Create a (10, 9) 2-d array where values on the same row all have the same value\n"
   ]
  },
  {
   "cell_type": "code",
   "execution_count": 228,
   "metadata": {},
   "outputs": [
    {
     "data": {
      "text/plain": [
       "array([[  1.,   1.,   1.,   1.,   1.,   1.,   1.,   1.,   1.],\n",
       "       [  2.,   2.,   2.,   2.,   2.,   2.,   2.,   2.,   2.],\n",
       "       [  3.,   3.,   3.,   3.,   3.,   3.,   3.,   3.,   3.],\n",
       "       [  4.,   4.,   4.,   4.,   4.,   4.,   4.,   4.,   4.],\n",
       "       [  5.,   5.,   5.,   5.,   5.,   5.,   5.,   5.,   5.],\n",
       "       [  6.,   6.,   6.,   6.,   6.,   6.,   6.,   6.,   6.],\n",
       "       [  7.,   7.,   7.,   7.,   7.,   7.,   7.,   7.,   7.],\n",
       "       [  8.,   8.,   8.,   8.,   8.,   8.,   8.,   8.,   8.],\n",
       "       [  9.,   9.,   9.,   9.,   9.,   9.,   9.,   9.,   9.],\n",
       "       [ 10.,  10.,  10.,  10.,  10.,  10.,  10.,  10.,  10.]])"
      ]
     },
     "execution_count": 228,
     "metadata": {},
     "output_type": "execute_result"
    }
   ],
   "source": [
    "# your code here:\n",
    "p = np.arange(10).reshape(10,1)\n",
    "p2 = np.ones((10,9))\n",
    "p2 + p"
   ]
  },
  {
   "cell_type": "markdown",
   "metadata": {},
   "source": [
    "#### Task: Make use of broadcasting to add 3 to first row, 2 to the second row and 1 to the third row of Q"
   ]
  },
  {
   "cell_type": "code",
   "execution_count": 233,
   "metadata": {},
   "outputs": [
    {
     "data": {
      "text/plain": [
       "array([[3, 4, 5],\n",
       "       [5, 6, 7],\n",
       "       [7, 8, 9]])"
      ]
     },
     "execution_count": 233,
     "metadata": {},
     "output_type": "execute_result"
    }
   ],
   "source": [
    "Q = np.arange(9).reshape(3, 3)\n",
    "## your single line of code here\n",
    "a = np.arange(3)[::-1].reshape(3,1)+1\n",
    "#print(Q)\n",
    "#print(a)\n",
    "Q+a"
   ]
  },
  {
   "cell_type": "markdown",
   "metadata": {},
   "source": [
    "Broadcasting can be hard to get your head around first. Attempting to broadcast arrays with incompatible dimensions will lead to errors, which can often be fixed by transposing one of your arrays. See the [documentation](https://docs.scipy.org/doc/numpy-1.13.0/user/basics.broadcasting.html) for a full explanation of which arrays can be broadcast. A more intuitive explanation is also available [here](https://github.com/jakevdp/PythonDataScienceHandbook/blob/master/notebooks/02.05-Computation-on-arrays-broadcasting.ipynb)."
   ]
  },
  {
   "cell_type": "markdown",
   "metadata": {},
   "source": [
    "# 2. Vectorising operations\n",
    "\n",
    "As far as possible move operations outside of `for` loops. In other words, let's apply operations to entire subsets of data, rather than item by item."
   ]
  },
  {
   "cell_type": "markdown",
   "metadata": {},
   "source": [
    "#### Task: Write an `add` function in plain python that takes two lists as input and returns their elementwise sum"
   ]
  },
  {
   "cell_type": "code",
   "execution_count": 239,
   "metadata": {},
   "outputs": [
    {
     "data": {
      "text/plain": [
       "array([4, 6, 8])"
      ]
     },
     "execution_count": 239,
     "metadata": {},
     "output_type": "execute_result"
    }
   ],
   "source": [
    "def add(first, second):\n",
    "    '''Elementwise sum'''\n",
    "    ## your code here\n",
    "    result = np.zeros_like(first)\n",
    "    for i in range(len(first)):\n",
    "        result[i] = first[i] + second[i]\n",
    "    return result\n",
    "add([1,2,3],[3,4,5])    "
   ]
  },
  {
   "cell_type": "markdown",
   "metadata": {},
   "source": [
    "#### Task: Write an `add` function using numpy"
   ]
  },
  {
   "cell_type": "code",
   "execution_count": 240,
   "metadata": {},
   "outputs": [
    {
     "data": {
      "text/plain": [
       "array([4, 6, 8])"
      ]
     },
     "execution_count": 240,
     "metadata": {},
     "output_type": "execute_result"
    }
   ],
   "source": [
    "def vectorised_add(first, second):\n",
    "    '''Elementwise sum'''\n",
    "    ## your code here\n",
    "    return first + second\n",
    "\n",
    "add([1,2,3],[3,4,5])    "
   ]
  },
  {
   "cell_type": "markdown",
   "metadata": {},
   "source": [
    "#### Task: Compute the euclidean distance between all points on a grid of evenly spaced values\n",
    "- Create an array of 100 evenly spaced values\n",
    "- Create a grids of all possible (x, y) values from the array (look at `np.meshgrid`)\n",
    "- Compute a matrix `d` containing euclidean_distance(x, y) for each (x, y) pair\n",
    "\n",
    "To check your answer, we provide code for plotting `d`."
   ]
  },
  {
   "cell_type": "code",
   "execution_count": 304,
   "metadata": {},
   "outputs": [
    {
     "name": "stdout",
     "output_type": "stream",
     "text": [
      "[[ 0  1  2 ..., 97 98 99]\n",
      " [ 1  0  1 ..., 96 97 98]\n",
      " [ 2  1  0 ..., 95 96 97]\n",
      " ..., \n",
      " [97 96 95 ...,  0  1  2]\n",
      " [98 97 96 ...,  1  0  1]\n",
      " [99 98 97 ...,  2  1  0]]\n"
     ]
    }
   ],
   "source": [
    "## your code here \n",
    "a = np.arange(100).reshape(100,1)\n",
    "X,Y = np.meshgrid(a,a)\n",
    "#print(X)\n",
    "#print(Y)\n",
    "d = np.abs(X-Y)\n",
    "print(d)\n",
    "dist = np.sqrt(np.dot(d,d))"
   ]
  },
  {
   "cell_type": "code",
   "execution_count": 306,
   "metadata": {},
   "outputs": [
    {
     "data": {
      "image/png": "[encoded data removed]",
      "text/plain": [
       "<matplotlib.figure.Figure at 0x7fa23df30518>"
      ]
     },
     "metadata": {},
     "output_type": "display_data"
    }
   ],
   "source": [
    "import matplotlib.pyplot as plt\n",
    "%matplotlib inline\n",
    "\n",
    "plt.imshow(np.abs(X - Y), cmap=plt.cm.gray, origin='lower')\n",
    "plt.colorbar()\n",
    "plt.show()"
   ]
  },
  {
   "cell_type": "markdown",
   "metadata": {},
   "source": [
    "## Vectorising functions"
   ]
  },
  {
   "cell_type": "markdown",
   "metadata": {},
   "source": [
    "### Task: Applying this in machine learning \n",
    "In supervised machine learning, we use labelled data to find the parameters of a function that accurately maps the raw data to the corresponding labels. We 'learn' the parameters by quantifying how well our current model is doing and using some optimization criterion to update the parameters in a direction that improves predictions.\n",
    "\n",
    "Therefore, a common machine learning task is minimising a function which quantifies the agreement between our model's predictions and the ground truth \n",
    "(call this function a [_loss function_](https://en.wikipedia.org/wiki/Loss_function) or _cost function_).\n",
    "\n",
    "Of course when training a model, we want to be able to get fast feedback on how well we're doing, so it's important to calculate the loss function efficiently. Below, we give you a dataset of images belonging to 10 categories, a function that maps the raw data to class scores and a (inefficient, non-vectorised) loss function.\n",
    "#### You need to speed the learning up, by implementing a vectorised version of the loss function.\n",
    "\n",
    "- **Data** : 60,000 tiny images belonging to 10 different categories."
   ]
  },
  {
   "cell_type": "code",
   "execution_count": 263,
   "metadata": {
    "collapsed": true
   },
   "outputs": [],
   "source": [
    "# you don't have to read this\n",
    "import pickle\n",
    "\n",
    "def unpickle(file):\n",
    "    '''Unpickle data from binary'''\n",
    "    with open(file, 'rb') as f:\n",
    "        return pickle.load(f, encoding='bytes')\n",
    "\n",
    "def load_cifar10_data(folder='data/cifar-10-batches-py'):\n",
    "    '''Load train and test sets of CIFAR 10 data.\n",
    "    \n",
    "    Parameters\n",
    "    ----------\n",
    "    folder : string, optional (default = 'Cifar-10-data')\n",
    "        Path to folder containing data.\n",
    "        \n",
    "    Returns\n",
    "    -------\n",
    "    X_train : numpy array, shape (50000, 3072)\n",
    "        Matrix of flattened 32x32 pixel RGB images.\n",
    "    y_train : numpy array, shape (50000,)\n",
    "        Vector of corresponding labels for images.\n",
    "    X_test : numpy array, shape (10000, 3072)\n",
    "    y_test : numpy array, shape (10000,)\n",
    "    '''\n",
    "    trainingset = {}\n",
    "    for i in np.arange(1,6):\n",
    "        trainingset[i] = unpickle('{}/data_batch_{}'.format(folder, i))\n",
    "    # 'b' prefix required for bytes literals in python 3\n",
    "    X_train = np.vstack([trainingset[i][b'data'] for i in np.arange(1,6)])\n",
    "    y_train = np.hstack([trainingset[i][b'labels'] for i in np.arange(1,6)])\n",
    "\n",
    "    testset = unpickle('{}/test_batch'.format(folder))\n",
    "    X_test = testset[b'data']\n",
    "    # testset labels are a list. Make np.array for consistency.\n",
    "    y_test = np.array(testset[b'labels'])\n",
    "    \n",
    "    return X_train, y_train, X_test, y_test"
   ]
  },
  {
   "cell_type": "markdown",
   "metadata": {},
   "source": [
    "- **Score function** : We'll use a simple linear model $$ s = f(x, W) = Wx $$ (Ignoring the usual bias term $b$. If you wish to include it, extend $W$ to have an extra column and each image vector $x$ with a $1$ that multiplies the new bias column of $W$).\n",
    "    - Specifically, $x$ is an image, so a 1-d array of 32x32x3 = 3072 pixel values\n",
    "    - We want to assign $x$ a score for each of the 10 possible labels, so $s$ will be a vector of length 10, and thus $W$ will have shape (10, 3072)"
   ]
  },
  {
   "cell_type": "code",
   "execution_count": 264,
   "metadata": {
    "collapsed": true
   },
   "outputs": [],
   "source": [
    "def score(x, W): \n",
    "    return np.dot(W, x)"
   ]
  },
  {
   "cell_type": "markdown",
   "metadata": {},
   "source": [
    "- **Loss function** : We'll use $ L = max(0,-) $ sometimes called the _hinge loss_.\n",
    "    - Specifically the loss for a single image $x_i$ is $$ L_i = \\sum_{j \\neq y_i} max(0, s_j - s_{y_i} + \\Delta ) $$\n",
    "        - $j$ are the 10 possible classes,\n",
    "        - $y_i$ is the correct class for image $x_i$, and\n",
    "        - $s$ is the vector of scores assigned by the score function (so $s_j$ is the score assigned to the $j^{th}$ class)\n",
    "    - i.e. the loss $L_i$ for a single image $x_i$ equals zero when the score function assigns the correct class $y_i$ a score that is at least delta greater than the score assigned to any other class, for some hyperparameter delta."
   ]
  },
  {
   "cell_type": "code",
   "execution_count": 265,
   "metadata": {
    "collapsed": true
   },
   "outputs": [],
   "source": [
    "# non-vectorised\n",
    "def L_i(x_i, y_i, W, delta=1.):\n",
    "    '''Calculate hinge loss for single image.\n",
    "    \n",
    "    Very inefficent. Takes only a single \n",
    "    image as input and loops over class.\n",
    "    \n",
    "    Parameters\n",
    "    ----------\n",
    "    x_i : numpy array\n",
    "        flattened input image pixels, shape (N,)\n",
    "    y_i : int\n",
    "        index of the true class label (in Cifar-10\n",
    "        this is the same as the true class label).\n",
    "    W : numpy array\n",
    "        weight matrix, shape (K, N)\n",
    "    delta : float, optional (default = 1.)\n",
    "    '''    \n",
    "    scores = score(x_i, W)\n",
    "    loss_i = 0.0\n",
    "    for j in np.arange(scores.shape[0]):\n",
    "        if j != y_i:\n",
    "            loss_i += max(0, scores[j] - scores[y_i] + delta)\n",
    "    return loss_i"
   ]
  },
  {
   "cell_type": "markdown",
   "metadata": {},
   "source": [
    "Let's check the function runs."
   ]
  },
  {
   "cell_type": "code",
   "execution_count": 272,
   "metadata": {},
   "outputs": [
    {
     "name": "stdout",
     "output_type": "stream",
     "text": [
      "loss = 8.0\n"
     ]
    }
   ],
   "source": [
    "# hand set a score vector \n",
    "x = np.array([13, -7, 11])\n",
    "W = np.eye(3) # 3x3 identity matrix\n",
    "\n",
    "# arbitrarily say the first entry is the score for the correct class\n",
    "y = 0\n",
    "# since the second entry (-7) is negative, the loss should be 11 - 13 + delta\n",
    "loss = L_i(x, y, W, delta=10.)\n",
    "print('loss =', loss)"
   ]
  },
  {
   "cell_type": "markdown",
   "metadata": {},
   "source": [
    "See how fast it is on a proper dataset of 50,000 images."
   ]
  },
  {
   "cell_type": "code",
   "execution_count": 267,
   "metadata": {
    "collapsed": true
   },
   "outputs": [],
   "source": [
    "# not going to use the test set\n",
    "X_train, y_train, _, _ = load_cifar10_data()\n",
    "\n",
    "# random weights\n",
    "W = np.random.randn(30720).reshape(10, 3072)"
   ]
  },
  {
   "cell_type": "code",
   "execution_count": 268,
   "metadata": {},
   "outputs": [
    {
     "name": "stdout",
     "output_type": "stream",
     "text": [
      "2508539884.25\n",
      "2508539884.25\n",
      "2508539884.25\n",
      "2508539884.25\n",
      "1 loop, best of 3: 1.55 s per loop\n"
     ]
    }
   ],
   "source": [
    "%%timeit\n",
    "total_loss = 0\n",
    "for x_i, y_i in zip(X_train, y_train):\n",
    "    total_loss += L_i(x_i, y_i, W, delta=10.)\n",
    "print(total_loss)"
   ]
  },
  {
   "cell_type": "markdown",
   "metadata": {},
   "source": [
    "#### Task: speed the learning up, by implementing a vectorised version of the loss function."
   ]
  },
  {
   "cell_type": "code",
   "execution_count": 290,
   "metadata": {},
   "outputs": [
    {
     "name": "stdout",
     "output_type": "stream",
     "text": [
      "[-10.   8.]\n",
      "loss = 8.0\n"
     ]
    }
   ],
   "source": [
    "## EXERCISE\n",
    "def L(X, y, W, delta=10.):\n",
    "    '''Calculate hinge loss more efficiently.'''\n",
    "    ## your code here     \n",
    "    \n",
    "    scores = score(x, W)\n",
    "    sj = scores[np.arange(scores.shape[0]) != y]\n",
    "    l = sj-scores[y] + delta\n",
    "    #print(l)\n",
    "    loss = sum(l[l > 0])\n",
    "              \n",
    "    return loss\n",
    "\n",
    "# hand set a score vector \n",
    "x = np.array([13, -7, 11])\n",
    "W = np.eye(3) # 3x3 identity matrix\n",
    "\n",
    "# arbitrarily say the first entry is the score for the correct class\n",
    "y = 0\n",
    "\n",
    "loss = L(x, y, W, delta=10.)\n",
    "print('loss =', loss)"
   ]
  },
  {
   "cell_type": "markdown",
   "metadata": {},
   "source": [
    "## Parting words of wisdom"
   ]
  },
  {
   "cell_type": "markdown",
   "metadata": {},
   "source": [
    "#### Whenever you think of writing your own function:\n",
    " - First, check if numpy or pandas can do it for you \n",
    " - Then, if not, make use of numpy and pandas for writing a vectorised function\n",
    " \n",
    "Caveats:\n",
    "1. Debugging is difficult and inevitable. It's also harder than writing code in the first place. So, if you’re as clever as you can be when you write it, how will you ever debug it? Make use of vectorisation to write faster, cleaner code, not to be a smart arse.\n",
    "2. Maintenance is also inevitable. Which means readability counts. When vectorising code, that means:\n",
    "    - If the implementation is hard to explain, it's a bad idea.\n",
    "    - If the implementation is easy to explain, it _may_ be a good idea."
   ]
  },
  {
   "cell_type": "markdown",
   "metadata": {},
   "source": [
    "## Credit\n",
    "- Adapted from a notebook created by Nick Robinson ([Github](https://github.com/nickrobinson251/py-lectures))\n",
    "- Some of this notebook edits and builds on resoures found in the open-source book [From Python to Numpy](http://www.labri.fr/perso/nrougier/from-python-to-numpy/)\n",
    "- Other parts make use of the resurces found in [scipy lecture notes](http://www.scipy-lectures.org/)\n",
    "- Other parts make use of the resources found in Python Data Science Handbook by Jake VanderPlass. \n",
    "- Thanks to Andrew Crozier for suggestions that made major imporovements"
   ]
  },
  {
   "cell_type": "code",
   "execution_count": null,
   "metadata": {
    "collapsed": true
   },
   "outputs": [],
   "source": [
    "# little pythonic treat\n",
    "import this"
   ]
  }
 ],
 "metadata": {
  "anaconda-cloud": {},
  "kernelspec": {
   "display_name": "Python [default]",
   "language": "python",
   "name": "python3"
  },
  "language_info": {
   "codemirror_mode": {
    "name": "ipython",
    "version": 3
   },
   "file_extension": ".py",
   "mimetype": "text/x-python",
   "name": "python",
   "nbconvert_exporter": "python",
   "pygments_lexer": "ipython3",
   "version": "3.6.1"
  }
 },
 "nbformat": 4,
 "nbformat_minor": 2
}
